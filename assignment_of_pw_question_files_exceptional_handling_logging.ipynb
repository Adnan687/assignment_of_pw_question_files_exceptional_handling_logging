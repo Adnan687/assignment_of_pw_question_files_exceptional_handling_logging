{
 "cells": [
  {
   "cell_type": "code",
   "execution_count": null,
   "id": "a661896a-9fa7-4d2c-bf5f-888b080fae97",
   "metadata": {},
   "outputs": [],
   "source": [
    "\"\"\"1. What is the difference between interpreted and compiled languages?\n",
    "ans. Compiled languages translate the entire source code into machine code before execution \n",
    "(e.g., C, C++). Interpreted languages execute code line by line without pre-compilation\n",
    "(e.g., Python, JavaScript).\"\"\""
   ]
  },
  {
   "cell_type": "code",
   "execution_count": null,
   "id": "55daf188-7925-44d2-9a76-449238debc4e",
   "metadata": {},
   "outputs": [],
   "source": [
    "\"\"\"2. What is exception handling in Python?\n",
    "ans.Exception handling in Python allows developers to handle runtime errors gracefully using try, except, finally, and else blocks.\"\"\""
   ]
  },
  {
   "cell_type": "code",
   "execution_count": null,
   "id": "3eac3c72-d13c-413f-8c61-b7c61fc2d94b",
   "metadata": {},
   "outputs": [],
   "source": [
    "\"\"\"3. What is the purpose of the finally block in exception handling?\n",
    "ans. The finally block ensures that cleanup operations, such as closing a file or releasing resources, occur regardless of whether an exception was raised.\"\"\""
   ]
  },
  {
   "cell_type": "code",
   "execution_count": null,
   "id": "59a270f0-bbf6-418a-9ef6-9323692f8c50",
   "metadata": {},
   "outputs": [],
   "source": [
    "\"\"\"4. What is logging in Python?\n",
    "ans. Logging records events during program execution, which helps in debugging and monitoring applications.\"\"\""
   ]
  },
  {
   "cell_type": "code",
   "execution_count": null,
   "id": "d812434a-ceb8-44f7-af5f-df20e6694ce0",
   "metadata": {},
   "outputs": [],
   "source": [
    "\"\"\"5. What is the significance of the del method in Python?\n",
    "ans. The __del__ method is a destructor that is called when an object is deleted or garbage collected.\"\"\""
   ]
  },
  {
   "cell_type": "code",
   "execution_count": null,
   "id": "caa922be-3ef8-4a71-a3f1-5d60fab9729c",
   "metadata": {},
   "outputs": [],
   "source": [
    "\"\"\"6. What is the difference between import and from ... import in Python?\n",
    "ans. import module imports the entire module, while from module import function imports only a specific function or object.\"\"\""
   ]
  },
  {
   "cell_type": "code",
   "execution_count": 1,
   "id": "5890bdf0-2130-4a31-973d-f16ca7b03c87",
   "metadata": {},
   "outputs": [
    {
     "ename": "SyntaxError",
     "evalue": "invalid syntax (3933245239.py, line 4)",
     "output_type": "error",
     "traceback": [
      "\u001b[1;36m  Cell \u001b[1;32mIn[1], line 4\u001b[1;36m\u001b[0m\n\u001b[1;33m    except (ZeroDivisionError, ValueError) as e:\u001b[0m\n\u001b[1;37m    ^\u001b[0m\n\u001b[1;31mSyntaxError\u001b[0m\u001b[1;31m:\u001b[0m invalid syntax\n"
     ]
    }
   ],
   "source": [
    "#7. How can you handle multiple exceptions in Python?\n",
    "#ans. Use multiple except blocks or a single except block with a tuple of exceptions.\n",
    "#x = 1 / 0\n",
    "except (ZeroDivisionError, ValueError) as e:\n",
    "    print(\"Error occurred:\", e)"
   ]
  },
  {
   "cell_type": "code",
   "execution_count": 3,
   "id": "c1b06888-ff69-48ba-8d35-9e9ad25b596b",
   "metadata": {},
   "outputs": [
    {
     "ename": "FileNotFoundError",
     "evalue": "[Errno 2] No such file or directory: 'file.txt'",
     "output_type": "error",
     "traceback": [
      "\u001b[1;31m---------------------------------------------------------------------------\u001b[0m",
      "\u001b[1;31mFileNotFoundError\u001b[0m                         Traceback (most recent call last)",
      "Cell \u001b[1;32mIn[3], line 3\u001b[0m\n\u001b[0;32m      1\u001b[0m \u001b[38;5;66;03m#8. What is the purpose of the with statement when handling files in Python?\u001b[39;00m\n\u001b[0;32m      2\u001b[0m \u001b[38;5;66;03m#ans. The with statement ensures that a file is properly closed after its block is executed.\u001b[39;00m\n\u001b[1;32m----> 3\u001b[0m \u001b[38;5;28;01mwith\u001b[39;00m \u001b[38;5;28mopen\u001b[39m(\u001b[38;5;124m\"\u001b[39m\u001b[38;5;124mfile.txt\u001b[39m\u001b[38;5;124m\"\u001b[39m, \u001b[38;5;124m\"\u001b[39m\u001b[38;5;124mr\u001b[39m\u001b[38;5;124m\"\u001b[39m) \u001b[38;5;28;01mas\u001b[39;00m file:\n\u001b[0;32m      4\u001b[0m     content \u001b[38;5;241m=\u001b[39m file\u001b[38;5;241m.\u001b[39mread()\n",
      "File \u001b[1;32md:\\Users\\Owner\\anaconda3\\Lib\\site-packages\\IPython\\core\\interactiveshell.py:324\u001b[0m, in \u001b[0;36m_modified_open\u001b[1;34m(file, *args, **kwargs)\u001b[0m\n\u001b[0;32m    317\u001b[0m \u001b[38;5;28;01mif\u001b[39;00m file \u001b[38;5;129;01min\u001b[39;00m {\u001b[38;5;241m0\u001b[39m, \u001b[38;5;241m1\u001b[39m, \u001b[38;5;241m2\u001b[39m}:\n\u001b[0;32m    318\u001b[0m     \u001b[38;5;28;01mraise\u001b[39;00m \u001b[38;5;167;01mValueError\u001b[39;00m(\n\u001b[0;32m    319\u001b[0m         \u001b[38;5;124mf\u001b[39m\u001b[38;5;124m\"\u001b[39m\u001b[38;5;124mIPython won\u001b[39m\u001b[38;5;124m'\u001b[39m\u001b[38;5;124mt let you open fd=\u001b[39m\u001b[38;5;132;01m{\u001b[39;00mfile\u001b[38;5;132;01m}\u001b[39;00m\u001b[38;5;124m by default \u001b[39m\u001b[38;5;124m\"\u001b[39m\n\u001b[0;32m    320\u001b[0m         \u001b[38;5;124m\"\u001b[39m\u001b[38;5;124mas it is likely to crash IPython. If you know what you are doing, \u001b[39m\u001b[38;5;124m\"\u001b[39m\n\u001b[0;32m    321\u001b[0m         \u001b[38;5;124m\"\u001b[39m\u001b[38;5;124myou can use builtins\u001b[39m\u001b[38;5;124m'\u001b[39m\u001b[38;5;124m open.\u001b[39m\u001b[38;5;124m\"\u001b[39m\n\u001b[0;32m    322\u001b[0m     )\n\u001b[1;32m--> 324\u001b[0m \u001b[38;5;28;01mreturn\u001b[39;00m io_open(file, \u001b[38;5;241m*\u001b[39margs, \u001b[38;5;241m*\u001b[39m\u001b[38;5;241m*\u001b[39mkwargs)\n",
      "\u001b[1;31mFileNotFoundError\u001b[0m: [Errno 2] No such file or directory: 'file.txt'"
     ]
    }
   ],
   "source": [
    "#8. What is the purpose of the with statement when handling files in Python?\n",
    "#ans. The with statement ensures that a file is properly closed after its block is executed.\n",
    "with open(\"file.txt\", \"r\") as file:\n",
    "    content = file.read()"
   ]
  },
  {
   "cell_type": "code",
   "execution_count": null,
   "id": "1821e4f6-0a6a-45cd-8442-d9af1c019aec",
   "metadata": {},
   "outputs": [],
   "source": [
    "\"\"\"9. What is the difference between multithreading and multiprocessing?\n",
    "ans. Multithreading runs multiple threads in a single process, while multiprocessing runs separate processes with their own memory space.\"\"\""
   ]
  },
  {
   "cell_type": "code",
   "execution_count": null,
   "id": "5f4dd28b-6655-4fc8-939c-848b44965e34",
   "metadata": {},
   "outputs": [],
   "source": [
    "\"\"\"10. What are the advantages of using logging in a program?\n",
    "\n",
    "ans. Helps in debugging\n",
    "\n",
    "Provides historical records\n",
    "\n",
    "Assists in performance monitoring\"\"\""
   ]
  },
  {
   "cell_type": "code",
   "execution_count": null,
   "id": "57c356a3-9365-4ca8-aed5-98cc68df7b4e",
   "metadata": {},
   "outputs": [],
   "source": [
    "\"\"\"11. What is memory management in Python?\n",
    "ans. Memory management involves dynamic allocation and garbage collection.\"\"\""
   ]
  },
  {
   "cell_type": "code",
   "execution_count": null,
   "id": "81bfdac7-cea1-478a-b3d9-cb9fb47bf45b",
   "metadata": {},
   "outputs": [],
   "source": [
    "\"\"\"12. What are the basic steps involved in exception handling in Python?\n",
    "\n",
    "ans. 1.Wrap code in try\n",
    "\n",
    "     2.Catch exceptions in except\n",
    "\n",
    "     3.Use else for successful execution\n",
    "\n",
    "     4.Use finally for cleanup\"\"\""
   ]
  },
  {
   "cell_type": "code",
   "execution_count": null,
   "id": "92933b5f-58fb-40dc-9ddc-caf14750d98d",
   "metadata": {},
   "outputs": [],
   "source": [
    "\"\"\"13. Why is memory management important in Python?\n",
    "ans. Efficient memory management improves performance and prevents memory leaks.\"\"\""
   ]
  },
  {
   "cell_type": "code",
   "execution_count": null,
   "id": "6d523be3-4f05-49c6-9e4d-bcd1e01de780",
   "metadata": {},
   "outputs": [],
   "source": [
    "\"\"\"14. What is the role of try and except in exception handling?\n",
    "ans. try detects errors, and except handles them.\"\"\""
   ]
  },
  {
   "cell_type": "code",
   "execution_count": null,
   "id": "a09aa20b-b474-4a8c-bec8-9510e189bf83",
   "metadata": {},
   "outputs": [],
   "source": [
    "\"\"\"15. How does Python's garbage collection system work?\n",
    "ans. Python uses reference counting and cyclic garbage collection to free memory.\"\"\""
   ]
  },
  {
   "cell_type": "code",
   "execution_count": null,
   "id": "7028e821-35fb-46c7-9e13-670c32a6729b",
   "metadata": {},
   "outputs": [],
   "source": [
    "\"\"\"16. What is the purpose of the else block in exception handling?\n",
    "ans. It executes if no exceptions occur in the try block.\"\"\""
   ]
  },
  {
   "cell_type": "code",
   "execution_count": null,
   "id": "9d064765-bb3d-4cb3-9a94-77e693a73067",
   "metadata": {},
   "outputs": [],
   "source": [
    "\"\"\"17. What are the common logging levels in Python?\n",
    "\n",
    "ans. DEBUG\n",
    "     INFO\n",
    "     WARNING\n",
    "     ERROR\n",
    "     CRITICAL\"\"\""
   ]
  },
  {
   "cell_type": "code",
   "execution_count": null,
   "id": "6c9c709e-ea20-4a58-bba4-3a48cb69987b",
   "metadata": {},
   "outputs": [],
   "source": [
    "\"\"\"18. What is the difference between os.fork() and multiprocessing in Python?\n",
    "ans. os.fork() creates a child process (Unix-only), while multiprocessing is cross-platform.\"\"\""
   ]
  },
  {
   "cell_type": "code",
   "execution_count": null,
   "id": "d6e1cbc9-f9d5-4a33-af4d-1ed8bb2b9a61",
   "metadata": {},
   "outputs": [],
   "source": [
    "\"\"\"19. What is the importance of closing a file in Python?\n",
    "ans. It frees up system resources and ensures data integrity.\"\"\""
   ]
  },
  {
   "cell_type": "code",
   "execution_count": null,
   "id": "4e0f2ca2-adc4-4edf-bcaf-3e6445eb9a47",
   "metadata": {},
   "outputs": [],
   "source": [
    "\"\"\"20. What is the difference between file.read() and file.readline() in Python?\n",
    "ans. file.read() reads the whole file, while file.readline() reads one line at a time.\"\"\""
   ]
  },
  {
   "cell_type": "code",
   "execution_count": null,
   "id": "5612a7a4-34df-4054-b8d9-e601dbbe35ef",
   "metadata": {},
   "outputs": [],
   "source": [
    "\"\"\"21. What is the logging module in Python used for?\n",
    "ans. It logs messages for debugging and monitoring\"\""
   ]
  },
  {
   "cell_type": "code",
   "execution_count": null,
   "id": "745efb4b-51c6-46b1-b368-64301455d97a",
   "metadata": {},
   "outputs": [],
   "source": [
    "\"\"\"22. What is the os module in Python used for in file handling?\n",
    "ans. It provides functions for interacting with the OS, such as file and directory operations\"\"\""
   ]
  },
  {
   "cell_type": "code",
   "execution_count": null,
   "id": "e6d57df5-078f-46ac-bb79-46662ae660cb",
   "metadata": {},
   "outputs": [],
   "source": [
    "\"\"\"23. What are the challenges associated with memory management in Python?\n",
    "\n",
    "ans. High memory usage\n",
    "     Circular references\n",
    "     Fragmentation\"\"\""
   ]
  },
  {
   "cell_type": "code",
   "execution_count": 5,
   "id": "89713247-82a8-4d4c-8ca4-2b208e9ad3e4",
   "metadata": {},
   "outputs": [
    {
     "ename": "ValueError",
     "evalue": "Invalid input",
     "output_type": "error",
     "traceback": [
      "\u001b[1;31m---------------------------------------------------------------------------\u001b[0m",
      "\u001b[1;31mValueError\u001b[0m                                Traceback (most recent call last)",
      "Cell \u001b[1;32mIn[5], line 3\u001b[0m\n\u001b[0;32m      1\u001b[0m \u001b[38;5;66;03m#24. How do you raise an exception manually in #Python?\u001b[39;00m\n\u001b[0;32m      2\u001b[0m \u001b[38;5;66;03m#ans. Use the raise keyword:\u001b[39;00m\n\u001b[1;32m----> 3\u001b[0m \u001b[38;5;28;01mraise\u001b[39;00m \u001b[38;5;167;01mValueError\u001b[39;00m(\u001b[38;5;124m\"\u001b[39m\u001b[38;5;124mInvalid input\u001b[39m\u001b[38;5;124m\"\u001b[39m)\n",
      "\u001b[1;31mValueError\u001b[0m: Invalid input"
     ]
    }
   ],
   "source": [
    "#24. How do you raise an exception manually in #Python?\n",
    "#ans. Use the raise keyword:\n",
    "raise ValueError(\"Invalid input\")"
   ]
  },
  {
   "cell_type": "code",
   "execution_count": null,
   "id": "c2588b5a-648a-416f-b89e-3fa74ff71785",
   "metadata": {},
   "outputs": [],
   "source": [
    "\"\"\"25. Why is it important to use multithreading in certain applications?\n",
    "ans.Multithreading is important in certain applications because it allows for parallel execution of tasks, improving performance and responsiveness.\"\"\""
   ]
  },
  {
   "cell_type": "code",
   "execution_count": null,
   "id": "c32be039-8673-403d-87b4-769615e56f32",
   "metadata": {},
   "outputs": [],
   "source": [
    "# practical questions"
   ]
  },
  {
   "cell_type": "code",
   "execution_count": 7,
   "id": "11403397-fb73-46c7-b7fb-5a496bbc63bf",
   "metadata": {},
   "outputs": [
    {
     "ename": "IndentationError",
     "evalue": "unexpected indent (3037446906.py, line 3)",
     "output_type": "error",
     "traceback": [
      "\u001b[1;36m  Cell \u001b[1;32mIn[7], line 3\u001b[1;36m\u001b[0m\n\u001b[1;33m    file.write(\"Hello, World!\")\u001b[0m\n\u001b[1;37m    ^\u001b[0m\n\u001b[1;31mIndentationError\u001b[0m\u001b[1;31m:\u001b[0m unexpected indent\n"
     ]
    }
   ],
   "source": [
    "#1. How can you open a file for writing in Python and write a string to it?\n",
    "#with open(\"output.txt\", \"w\") as file:\n",
    "    file.write(\"Hello, World!\")"
   ]
  },
  {
   "cell_type": "code",
   "execution_count": 9,
   "id": "8e016c67-7972-41c7-a571-d144f6d6597a",
   "metadata": {},
   "outputs": [
    {
     "ename": "FileNotFoundError",
     "evalue": "[Errno 2] No such file or directory: 'file.txt'",
     "output_type": "error",
     "traceback": [
      "\u001b[1;31m---------------------------------------------------------------------------\u001b[0m",
      "\u001b[1;31mFileNotFoundError\u001b[0m                         Traceback (most recent call last)",
      "Cell \u001b[1;32mIn[9], line 3\u001b[0m\n\u001b[0;32m      1\u001b[0m \u001b[38;5;66;03m#2. Write a Python program to read the contents of a file and print each line.\u001b[39;00m\n\u001b[1;32m----> 3\u001b[0m \u001b[38;5;28;01mwith\u001b[39;00m \u001b[38;5;28mopen\u001b[39m(\u001b[38;5;124m\"\u001b[39m\u001b[38;5;124mfile.txt\u001b[39m\u001b[38;5;124m\"\u001b[39m, \u001b[38;5;124m\"\u001b[39m\u001b[38;5;124mr\u001b[39m\u001b[38;5;124m\"\u001b[39m) \u001b[38;5;28;01mas\u001b[39;00m file:\n\u001b[0;32m      4\u001b[0m     \u001b[38;5;28;01mfor\u001b[39;00m line \u001b[38;5;129;01min\u001b[39;00m file:\n\u001b[0;32m      5\u001b[0m         \u001b[38;5;28mprint\u001b[39m(line\u001b[38;5;241m.\u001b[39mstrip())\n",
      "File \u001b[1;32md:\\Users\\Owner\\anaconda3\\Lib\\site-packages\\IPython\\core\\interactiveshell.py:324\u001b[0m, in \u001b[0;36m_modified_open\u001b[1;34m(file, *args, **kwargs)\u001b[0m\n\u001b[0;32m    317\u001b[0m \u001b[38;5;28;01mif\u001b[39;00m file \u001b[38;5;129;01min\u001b[39;00m {\u001b[38;5;241m0\u001b[39m, \u001b[38;5;241m1\u001b[39m, \u001b[38;5;241m2\u001b[39m}:\n\u001b[0;32m    318\u001b[0m     \u001b[38;5;28;01mraise\u001b[39;00m \u001b[38;5;167;01mValueError\u001b[39;00m(\n\u001b[0;32m    319\u001b[0m         \u001b[38;5;124mf\u001b[39m\u001b[38;5;124m\"\u001b[39m\u001b[38;5;124mIPython won\u001b[39m\u001b[38;5;124m'\u001b[39m\u001b[38;5;124mt let you open fd=\u001b[39m\u001b[38;5;132;01m{\u001b[39;00mfile\u001b[38;5;132;01m}\u001b[39;00m\u001b[38;5;124m by default \u001b[39m\u001b[38;5;124m\"\u001b[39m\n\u001b[0;32m    320\u001b[0m         \u001b[38;5;124m\"\u001b[39m\u001b[38;5;124mas it is likely to crash IPython. If you know what you are doing, \u001b[39m\u001b[38;5;124m\"\u001b[39m\n\u001b[0;32m    321\u001b[0m         \u001b[38;5;124m\"\u001b[39m\u001b[38;5;124myou can use builtins\u001b[39m\u001b[38;5;124m'\u001b[39m\u001b[38;5;124m open.\u001b[39m\u001b[38;5;124m\"\u001b[39m\n\u001b[0;32m    322\u001b[0m     )\n\u001b[1;32m--> 324\u001b[0m \u001b[38;5;28;01mreturn\u001b[39;00m io_open(file, \u001b[38;5;241m*\u001b[39margs, \u001b[38;5;241m*\u001b[39m\u001b[38;5;241m*\u001b[39mkwargs)\n",
      "\u001b[1;31mFileNotFoundError\u001b[0m: [Errno 2] No such file or directory: 'file.txt'"
     ]
    }
   ],
   "source": [
    "#2. Write a Python program to read the contents of a file and print each line.\n",
    "\n",
    "with open(\"file.txt\", \"r\") as file:\n",
    "    for line in file:\n",
    "        print(line.strip())\n",
    "\n"
   ]
  },
  {
   "cell_type": "code",
   "execution_count": 11,
   "id": "af4b44ce-d037-4692-b949-1b8c98664486",
   "metadata": {},
   "outputs": [
    {
     "name": "stdout",
     "output_type": "stream",
     "text": [
      "File not found!\n"
     ]
    }
   ],
   "source": [
    "#3. How would you handle a case where the file doesn't exist while trying to open it for reading?\n",
    "try:\n",
    "    with open(\"nonexistent.txt\", \"r\") as file:\n",
    "        content = file.read()\n",
    "except FileNotFoundError:\n",
    "    print(\"File not found!\")"
   ]
  },
  {
   "cell_type": "code",
   "execution_count": 13,
   "id": "a8dce0b2-650e-4eca-b6b7-3f81d3d31b69",
   "metadata": {},
   "outputs": [
    {
     "ename": "FileNotFoundError",
     "evalue": "[Errno 2] No such file or directory: 'source.txt'",
     "output_type": "error",
     "traceback": [
      "\u001b[1;31m---------------------------------------------------------------------------\u001b[0m",
      "\u001b[1;31mFileNotFoundError\u001b[0m                         Traceback (most recent call last)",
      "Cell \u001b[1;32mIn[13], line 2\u001b[0m\n\u001b[0;32m      1\u001b[0m \u001b[38;5;66;03m#4. Write a Python script that reads from one file and writes its content to another file.\u001b[39;00m\n\u001b[1;32m----> 2\u001b[0m \u001b[38;5;28;01mwith\u001b[39;00m \u001b[38;5;28mopen\u001b[39m(\u001b[38;5;124m\"\u001b[39m\u001b[38;5;124msource.txt\u001b[39m\u001b[38;5;124m\"\u001b[39m, \u001b[38;5;124m\"\u001b[39m\u001b[38;5;124mr\u001b[39m\u001b[38;5;124m\"\u001b[39m) \u001b[38;5;28;01mas\u001b[39;00m source, \u001b[38;5;28mopen\u001b[39m(\u001b[38;5;124m\"\u001b[39m\u001b[38;5;124mdestination.txt\u001b[39m\u001b[38;5;124m\"\u001b[39m, \u001b[38;5;124m\"\u001b[39m\u001b[38;5;124mw\u001b[39m\u001b[38;5;124m\"\u001b[39m) \u001b[38;5;28;01mas\u001b[39;00m dest:\n\u001b[0;32m      3\u001b[0m     dest\u001b[38;5;241m.\u001b[39mwrite(source\u001b[38;5;241m.\u001b[39mread())\n",
      "File \u001b[1;32md:\\Users\\Owner\\anaconda3\\Lib\\site-packages\\IPython\\core\\interactiveshell.py:324\u001b[0m, in \u001b[0;36m_modified_open\u001b[1;34m(file, *args, **kwargs)\u001b[0m\n\u001b[0;32m    317\u001b[0m \u001b[38;5;28;01mif\u001b[39;00m file \u001b[38;5;129;01min\u001b[39;00m {\u001b[38;5;241m0\u001b[39m, \u001b[38;5;241m1\u001b[39m, \u001b[38;5;241m2\u001b[39m}:\n\u001b[0;32m    318\u001b[0m     \u001b[38;5;28;01mraise\u001b[39;00m \u001b[38;5;167;01mValueError\u001b[39;00m(\n\u001b[0;32m    319\u001b[0m         \u001b[38;5;124mf\u001b[39m\u001b[38;5;124m\"\u001b[39m\u001b[38;5;124mIPython won\u001b[39m\u001b[38;5;124m'\u001b[39m\u001b[38;5;124mt let you open fd=\u001b[39m\u001b[38;5;132;01m{\u001b[39;00mfile\u001b[38;5;132;01m}\u001b[39;00m\u001b[38;5;124m by default \u001b[39m\u001b[38;5;124m\"\u001b[39m\n\u001b[0;32m    320\u001b[0m         \u001b[38;5;124m\"\u001b[39m\u001b[38;5;124mas it is likely to crash IPython. If you know what you are doing, \u001b[39m\u001b[38;5;124m\"\u001b[39m\n\u001b[0;32m    321\u001b[0m         \u001b[38;5;124m\"\u001b[39m\u001b[38;5;124myou can use builtins\u001b[39m\u001b[38;5;124m'\u001b[39m\u001b[38;5;124m open.\u001b[39m\u001b[38;5;124m\"\u001b[39m\n\u001b[0;32m    322\u001b[0m     )\n\u001b[1;32m--> 324\u001b[0m \u001b[38;5;28;01mreturn\u001b[39;00m io_open(file, \u001b[38;5;241m*\u001b[39margs, \u001b[38;5;241m*\u001b[39m\u001b[38;5;241m*\u001b[39mkwargs)\n",
      "\u001b[1;31mFileNotFoundError\u001b[0m: [Errno 2] No such file or directory: 'source.txt'"
     ]
    }
   ],
   "source": [
    "#4. Write a Python script that reads from one file and writes its content to another file.\n",
    "with open(\"source.txt\", \"r\") as source, open(\"destination.txt\", \"w\") as dest:\n",
    "    dest.write(source.read())"
   ]
  },
  {
   "cell_type": "code",
   "execution_count": 15,
   "id": "43dfb71a-d4f8-43bc-b575-f32b96bfa355",
   "metadata": {},
   "outputs": [
    {
     "name": "stdout",
     "output_type": "stream",
     "text": [
      "Cannot divide by zero!\n"
     ]
    }
   ],
   "source": [
    "#5. How would you catch and handle division by zero error in Python?\n",
    "try:\n",
    "    result = 10 / 0\n",
    "except ZeroDivisionError:\n",
    "    print(\"Cannot divide by zero!\")"
   ]
  },
  {
   "cell_type": "code",
   "execution_count": 3,
   "id": "5c8b0a67-723d-45f1-a361-12fa5bf2c880",
   "metadata": {},
   "outputs": [
    {
     "name": "stderr",
     "output_type": "stream",
     "text": [
      "ERROR:root:Error: Division by zero\n",
      "Traceback (most recent call last):\n",
      "  File \"C:\\Users\\Owner\\AppData\\Local\\Temp\\ipykernel_16876\\2398584139.py\", line 5, in <module>\n",
      "    x = 1 / 0\n",
      "        ~~^~~\n",
      "ZeroDivisionError: division by zero\n"
     ]
    }
   ],
   "source": [
    "#6. Write a Python program that logs an error message when a division by zero exception occurs.\n",
    "import logging\n",
    "logging.basicConfig(filename='error.log', level=logging.ERROR)\n",
    "try:\n",
    "    x = 1 / 0\n",
    "except ZeroDivisionError as e:\n",
    "    logging.error(\"Error: Division by zero\", exc_info=True)"
   ]
  },
  {
   "cell_type": "code",
   "execution_count": 1,
   "id": "2a3fd696-e44a-4a6d-a93d-e0ea63e6ccc4",
   "metadata": {},
   "outputs": [
    {
     "name": "stderr",
     "output_type": "stream",
     "text": [
      "INFO:root:This is an info message\n",
      "WARNING:root:This is a warning\n",
      "ERROR:root:This is an error\n"
     ]
    }
   ],
   "source": [
    "# 7. How do you log information at different levels in Python?\n",
    "import logging\n",
    "logging.basicConfig(level=logging.DEBUG)\n",
    "logging.info(\"This is an info message\")\n",
    "logging.warning(\"This is a warning\")\n",
    "logging.error(\"This is an error\")"
   ]
  },
  {
   "cell_type": "code",
   "execution_count": 29,
   "id": "5fc5b756-b8de-477b-8d02-85b96e25f034",
   "metadata": {},
   "outputs": [
    {
     "name": "stdout",
     "output_type": "stream",
     "text": [
      "File does not exist\n"
     ]
    }
   ],
   "source": [
    "#8. How can you check if a file exists before reading it?\n",
    "import os\n",
    "if os.path.exists(\"file.txt\"):\n",
    "    with open(\"file.txt\", \"r\") as file:\n",
    "        print(file.read())\n",
    "else:\n",
    "    print(\"File does not exist\")"
   ]
  },
  {
   "cell_type": "code",
   "execution_count": 31,
   "id": "04488371-0788-4ba4-a3d9-9fa8209840cd",
   "metadata": {},
   "outputs": [
    {
     "ename": "FileNotFoundError",
     "evalue": "[Errno 2] No such file or directory: 'file.txt'",
     "output_type": "error",
     "traceback": [
      "\u001b[1;31m---------------------------------------------------------------------------\u001b[0m",
      "\u001b[1;31mFileNotFoundError\u001b[0m                         Traceback (most recent call last)",
      "Cell \u001b[1;32mIn[31], line 2\u001b[0m\n\u001b[0;32m      1\u001b[0m \u001b[38;5;66;03m#9. Write a Python program that prints the content of a file and handles the case when the file is empty.\u001b[39;00m\n\u001b[1;32m----> 2\u001b[0m \u001b[38;5;28;01mwith\u001b[39;00m \u001b[38;5;28mopen\u001b[39m(\u001b[38;5;124m\"\u001b[39m\u001b[38;5;124mfile.txt\u001b[39m\u001b[38;5;124m\"\u001b[39m, \u001b[38;5;124m\"\u001b[39m\u001b[38;5;124mr\u001b[39m\u001b[38;5;124m\"\u001b[39m) \u001b[38;5;28;01mas\u001b[39;00m file:\n\u001b[0;32m      3\u001b[0m     content \u001b[38;5;241m=\u001b[39m file\u001b[38;5;241m.\u001b[39mread()\n\u001b[0;32m      4\u001b[0m     \u001b[38;5;28;01mif\u001b[39;00m content:\n",
      "File \u001b[1;32md:\\Users\\Owner\\anaconda3\\Lib\\site-packages\\IPython\\core\\interactiveshell.py:324\u001b[0m, in \u001b[0;36m_modified_open\u001b[1;34m(file, *args, **kwargs)\u001b[0m\n\u001b[0;32m    317\u001b[0m \u001b[38;5;28;01mif\u001b[39;00m file \u001b[38;5;129;01min\u001b[39;00m {\u001b[38;5;241m0\u001b[39m, \u001b[38;5;241m1\u001b[39m, \u001b[38;5;241m2\u001b[39m}:\n\u001b[0;32m    318\u001b[0m     \u001b[38;5;28;01mraise\u001b[39;00m \u001b[38;5;167;01mValueError\u001b[39;00m(\n\u001b[0;32m    319\u001b[0m         \u001b[38;5;124mf\u001b[39m\u001b[38;5;124m\"\u001b[39m\u001b[38;5;124mIPython won\u001b[39m\u001b[38;5;124m'\u001b[39m\u001b[38;5;124mt let you open fd=\u001b[39m\u001b[38;5;132;01m{\u001b[39;00mfile\u001b[38;5;132;01m}\u001b[39;00m\u001b[38;5;124m by default \u001b[39m\u001b[38;5;124m\"\u001b[39m\n\u001b[0;32m    320\u001b[0m         \u001b[38;5;124m\"\u001b[39m\u001b[38;5;124mas it is likely to crash IPython. If you know what you are doing, \u001b[39m\u001b[38;5;124m\"\u001b[39m\n\u001b[0;32m    321\u001b[0m         \u001b[38;5;124m\"\u001b[39m\u001b[38;5;124myou can use builtins\u001b[39m\u001b[38;5;124m'\u001b[39m\u001b[38;5;124m open.\u001b[39m\u001b[38;5;124m\"\u001b[39m\n\u001b[0;32m    322\u001b[0m     )\n\u001b[1;32m--> 324\u001b[0m \u001b[38;5;28;01mreturn\u001b[39;00m io_open(file, \u001b[38;5;241m*\u001b[39margs, \u001b[38;5;241m*\u001b[39m\u001b[38;5;241m*\u001b[39mkwargs)\n",
      "\u001b[1;31mFileNotFoundError\u001b[0m: [Errno 2] No such file or directory: 'file.txt'"
     ]
    }
   ],
   "source": [
    "#9. Write a Python program that prints the content of a file and handles the case when the file is empty.\n",
    "with open(\"file.txt\", \"r\") as file:\n",
    "    content = file.read()\n",
    "    if content:\n",
    "        print(content)\n",
    "    else:\n",
    "        print(\"File is empty\")"
   ]
  },
  {
   "cell_type": "code",
   "execution_count": 1,
   "id": "cb0bdd5f-0cc7-47b6-aee6-4678f9d27b6a",
   "metadata": {},
   "outputs": [],
   "source": [
    "#10.How can you append data to an existing file in Python\n",
    "with open(\"example.txt\", \"a\") as file:\n",
    "    file.write(\"Appending new data\\n\")\n"
   ]
  },
  {
   "cell_type": "code",
   "execution_count": 3,
   "id": "1eda2340-5667-48cb-a6bb-ca322843e954",
   "metadata": {},
   "outputs": [
    {
     "name": "stdout",
     "output_type": "stream",
     "text": [
      "Key not found in dictionary\n"
     ]
    }
   ],
   "source": [
    "\"\"\"11.Write a Python program that uses a try-except block to handle an error when attempting to access a\n",
    "dictionary key that doesn't exist\"\"\"\n",
    "try:\n",
    "    my_dict = {\"name\": \"Alice\"}\n",
    "    print(my_dict[\"age\"])  # Key doesn't exist\n",
    "except KeyError:\n",
    "    print(\"Key not found in dictionary\")"
   ]
  },
  {
   "cell_type": "code",
   "execution_count": 5,
   "id": "2e503c4f-d3ea-4ecc-b62b-ee7d9cfdec71",
   "metadata": {},
   "outputs": [
    {
     "name": "stdout",
     "output_type": "stream",
     "text": [
      "Invalid conversion to integer.\n"
     ]
    }
   ],
   "source": [
    "\"\"\"12. Write a program that demonstrates using multiple except blocks to handle\n",
    "different types of exceptions\"\"\"\n",
    "try:\n",
    "    x = int(\"abc\")  # ValueError\n",
    "    y = 5 / 0       # ZeroDivisionError\n",
    "except ValueError:\n",
    "    print(\"Invalid conversion to integer.\")\n",
    "except ZeroDivisionError:\n",
    "    print(\"Cannot divide by zero.\")\n"
   ]
  },
  {
   "cell_type": "code",
   "execution_count": 7,
   "id": "16d921b9-024b-48e2-9960-c5f74e56e0d1",
   "metadata": {},
   "outputs": [
    {
     "name": "stdout",
     "output_type": "stream",
     "text": [
      "Appending new data\n",
      "\n"
     ]
    }
   ],
   "source": [
    "\"\"\"13. How would you check if a file exists before attempting to read it in Python?\"\"\"\n",
    "import os\n",
    "\n",
    "filename = \"example.txt\"\n",
    "if os.path.exists(filename):\n",
    "    with open(filename, \"r\") as file:\n",
    "        print(file.read())\n",
    "else:\n",
    "    print(\"File does not exist.\")\n"
   ]
  },
  {
   "cell_type": "code",
   "execution_count": 9,
   "id": "a56fda8d-cd39-4572-8f32-cd7265757f20",
   "metadata": {},
   "outputs": [],
   "source": [
    "\"\"\"14. Write a program that uses the logging module to log both informational and\n",
    "error messages\"\"\"\n",
    "import logging\n",
    "\n",
    "logging.basicConfig(filename=\"app.log\", level=logging.INFO, format=\"%(asctime)s - %(levelname)s - %(message)s\")\n",
    "\n",
    "logging.info(\"This is an informational message.\")\n",
    "logging.error(\"This is an error message.\")\n"
   ]
  },
  {
   "cell_type": "code",
   "execution_count": 33,
   "id": "a566d964-24ea-4548-a470-5526c8301b66",
   "metadata": {},
   "outputs": [
    {
     "name": "stdout",
     "output_type": "stream",
     "text": [
      "Appending new data\n",
      "\n"
     ]
    }
   ],
   "source": [
    "\"\"\"15 Write a Python program that prints the content of a file and handles the \n",
    "case when the file is empty \"\"\"\n",
    "filename = \"example.txt\"\n",
    "\n",
    "with open(filename, \"r\") as file:\n",
    "    content = file.read()\n",
    "    if not content:\n",
    "        print(\"File is empty\")\n",
    "    else:\n",
    "        print(content)\n"
   ]
  },
  {
   "cell_type": "code",
   "execution_count": 35,
   "id": "468c96cd-b023-4679-bbd3-6099e43f0d8e",
   "metadata": {},
   "outputs": [
    {
     "ename": "ModuleNotFoundError",
     "evalue": "No module named 'memory_profiler'",
     "output_type": "error",
     "traceback": [
      "\u001b[1;31m---------------------------------------------------------------------------\u001b[0m",
      "\u001b[1;31mModuleNotFoundError\u001b[0m                       Traceback (most recent call last)",
      "Cell \u001b[1;32mIn[35], line 3\u001b[0m\n\u001b[0;32m      1\u001b[0m \u001b[38;5;124;03m\"\"\"16 Demonstrate how to use memory profiling to check the memory usage of a\u001b[39;00m\n\u001b[0;32m      2\u001b[0m \u001b[38;5;124;03msmall program\"\"\"\u001b[39;00m\n\u001b[1;32m----> 3\u001b[0m \u001b[38;5;28;01mfrom\u001b[39;00m \u001b[38;5;21;01mmemory_profiler\u001b[39;00m \u001b[38;5;28;01mimport\u001b[39;00m profile\n\u001b[0;32m      5\u001b[0m \u001b[38;5;129m@profile\u001b[39m\n\u001b[0;32m      6\u001b[0m \u001b[38;5;28;01mdef\u001b[39;00m \u001b[38;5;21mmy_function\u001b[39m():\n\u001b[0;32m      7\u001b[0m     numbers \u001b[38;5;241m=\u001b[39m [i \u001b[38;5;28;01mfor\u001b[39;00m i \u001b[38;5;129;01min\u001b[39;00m \u001b[38;5;28mrange\u001b[39m(\u001b[38;5;241m10000\u001b[39m)]\n",
      "\u001b[1;31mModuleNotFoundError\u001b[0m: No module named 'memory_profiler'"
     ]
    }
   ],
   "source": [
    "\"\"\"16 Demonstrate how to use memory profiling to check the memory usage of a\n",
    "small program\"\"\"\n",
    "from memory_profiler import profile\n",
    "\n",
    "@profile\n",
    "def my_function():\n",
    "    numbers = [i for i in range(10000)]\n",
    "    return sum(numbers)\n",
    "\n",
    "my_function()\n"
   ]
  },
  {
   "cell_type": "code",
   "execution_count": 5,
   "id": "82744546-4b17-45b3-b946-8665ba867405",
   "metadata": {},
   "outputs": [],
   "source": [
    "\"\"\"17 Write a Python program to create and write a list of numbers to a file, \n",
    "one number per line \"\"\"\n",
    "numbers = [1, 2, 3, 4, 5]\n",
    "\n",
    "with open(\"numbers.txt\", \"w\") as file:\n",
    "    for num in numbers:\n",
    "        file.write(f\"{num}\\n\")\n"
   ]
  },
  {
   "cell_type": "code",
   "execution_count": 1,
   "id": "94a18557-c675-4ab4-ac95-9553a624f948",
   "metadata": {},
   "outputs": [
    {
     "ename": "SyntaxError",
     "evalue": "invalid syntax. Perhaps you forgot a comma? (107626780.py, line 10)",
     "output_type": "error",
     "traceback": [
      "\u001b[1;36m  Cell \u001b[1;32mIn[1], line 10\u001b[1;36m\u001b[0m\n\u001b[1;33m    logger.setLevel(logging.IN\u001b[0m\n\u001b[1;37m                    ^\u001b[0m\n\u001b[1;31mSyntaxError\u001b[0m\u001b[1;31m:\u001b[0m invalid syntax. Perhaps you forgot a comma?\n"
     ]
    }
   ],
   "source": [
    "\"\"\"18 How would you implement a basic logging setup that logs to a file with\n",
    "rotation after 1MB? \"\"\"\n",
    "\n",
    "import logging\n",
    "from logging.handlers import RotatingFileHandler\n",
    "\n",
    "logger = logging.getLogger(\"RotatingLogger\")\n",
    "handler = RotatingFileHandler(\"rotating.log\", maxBytes=1024*1024, backupCount=3)\n",
    "logger.addHandler(handler)\n",
    "logger.setLevel(logging.IN\n",
    "                FO)\n",
    "\n",
    "logger.info(\"Logging with rotation\")\n"
   ]
  },
  {
   "cell_type": "code",
   "execution_count": 7,
   "id": "3ca3faff-6811-43b7-8627-3356b06359b4",
   "metadata": {},
   "outputs": [
    {
     "name": "stdout",
     "output_type": "stream",
     "text": [
      "Error occurred: list index out of range\n"
     ]
    }
   ],
   "source": [
    "\"\"\"19 Write a program that handles both IndexError and KeyError using a try-except\n",
    "block \"\"\"\n",
    "try:\n",
    "    my_list = [1, 2, 3]\n",
    "    print(my_list[5])  # IndexError\n",
    "    my_dict = {\"a\": 10}\n",
    "    print(my_dict[\"b\"])  # KeyError\n",
    "except (IndexError, KeyError) as e:\n",
    "    print(f\"Error occurred: {e}\")\n"
   ]
  },
  {
   "cell_type": "code",
   "execution_count": 9,
   "id": "10f3934b-b78c-4a12-8fb2-bdaded475eff",
   "metadata": {},
   "outputs": [
    {
     "name": "stdout",
     "output_type": "stream",
     "text": [
      "Appending new data\n",
      "\n"
     ]
    }
   ],
   "source": [
    "\"\"\"20 How would you open a file and read its contents using a context manager \n",
    " in Python? \"\"\"\n",
    "with open(\"example.txt\", \"r\") as file:\n",
    "    print(file.read())\n"
   ]
  },
  {
   "cell_type": "code",
   "execution_count": 11,
   "id": "e0a2995c-4091-456d-9ac0-c2789b6293ba",
   "metadata": {},
   "outputs": [
    {
     "name": "stdout",
     "output_type": "stream",
     "text": [
      "Occurrences of 'Python': 0\n"
     ]
    }
   ],
   "source": [
    "\"\"\"21 Write a Python program that reads a file and prints the number of occurrences\n",
    "of a specific word python \"\"\"\n",
    "word_to_count = \"Python\"\n",
    "\n",
    "with open(\"example.txt\", \"r\") as file:\n",
    "    content = file.read()\n",
    "    print(f\"Occurrences of '{word_to_count}': {content.count(word_to_count)}\")\n"
   ]
  },
  {
   "cell_type": "code",
   "execution_count": 13,
   "id": "7c21a9cd-0cf8-42a8-8c55-e6fe0264d308",
   "metadata": {},
   "outputs": [
    {
     "name": "stdout",
     "output_type": "stream",
     "text": [
      "Appending new data\n",
      "\n"
     ]
    }
   ],
   "source": [
    "\"\"\"22 How can you check if a file is empty before attempting to read \n",
    "its contents?\"\"\"\n",
    "import os\n",
    "\n",
    "filename = \"example.txt\"\n",
    "\n",
    "if os.stat(filename).st_size == 0:\n",
    "    print(\"File is empty\")\n",
    "else:\n",
    "    with open(filename, \"r\") as file:\n",
    "        print(file.read())\n"
   ]
  },
  {
   "cell_type": "code",
   "execution_count": 17,
   "id": "722d671d-ee5c-41a7-933b-171879f325f5",
   "metadata": {},
   "outputs": [],
   "source": [
    "\"\"\"23  Write a Python program that writes to a log file when an error occurs during\n",
    "  file handling \"\"\"\n",
    "import logging\n",
    "\n",
    "logging.basicConfig(filename=\"error.log\", level=logging.ERROR, format=\"%(asctime)s - %(levelname)s - %(message)s\")\n",
    "\n",
    "try:\n",
    "    with open(\"nonexistent.txt\", \"r\") as file:\n",
    "        print(file.read())\n",
    "except FileNotFoundError as e:\n",
    "    logging.error(f\"File not found: {e}\")\n"
   ]
  },
  {
   "cell_type": "code",
   "execution_count": 29,
   "id": "f897c1ff-6ad6-4f68-aa6a-39b3185c79ae",
   "metadata": {},
   "outputs": [
    {
     "data": {
      "text/plain": [
       "'24 '"
      ]
     },
     "execution_count": 29,
     "metadata": {},
     "output_type": "execute_result"
    }
   ],
   "source": [
    "\"\"\"24 \"\"\""
   ]
  },
  {
   "cell_type": "code",
   "execution_count": 31,
   "id": "2557eb96-0c91-49a0-a6b0-a9a26119298c",
   "metadata": {},
   "outputs": [
    {
     "data": {
      "text/plain": [
       "'25 '"
      ]
     },
     "execution_count": 31,
     "metadata": {},
     "output_type": "execute_result"
    }
   ],
   "source": [
    "\"\"\"25 \"\"\""
   ]
  },
  {
   "cell_type": "code",
   "execution_count": null,
   "id": "4007b0ee-0c97-4338-aef7-a289b6403265",
   "metadata": {},
   "outputs": [],
   "source": []
  }
 ],
 "metadata": {
  "kernelspec": {
   "display_name": "Python [conda env:base] *",
   "language": "python",
   "name": "conda-base-py"
  },
  "language_info": {
   "codemirror_mode": {
    "name": "ipython",
    "version": 3
   },
   "file_extension": ".py",
   "mimetype": "text/x-python",
   "name": "python",
   "nbconvert_exporter": "python",
   "pygments_lexer": "ipython3",
   "version": "3.12.7"
  }
 },
 "nbformat": 4,
 "nbformat_minor": 5
}
